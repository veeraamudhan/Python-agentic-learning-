#Python basics code examples

#📘 Day 1 – Python Basics
#🔹 Step 1: Variables & Data Types

# Example of variables
name = "Veera"       # string
age = 30             # int
balance = 5000.75    # float
is_active = True     # boolean
pan = None           # special None type

print(name, age, balance, is_active, pan)
print(type(name), type(age), type(balance), type(is_active), type(pan))
#👉 Run this → you’ll see types printed (<class 'str'>, <class 'int'>, etc.).
#Veera 30 5000.75 True None
#<class 'str'> <class 'int'> <class 'float'> <class 'bool'> <class 'NoneType'>

#🔹 Step 2: Input & Casting



# Always returns string
amount = input("Enter transaction amount: ")

print("You entered:", amount)
print("Data type before casting:", type(amount))

# Convert to int
amount = int(amount)
print("After casting:", amount, type(amount))


#Enter transaction amount: 1000
#You entered: 1000
#Data type before casting: <class 'str'>
#After casting: 1000 <class 'int'>


#🔹 Step 3: f-Strings (formatted output)

client = "Veera"
balance = 7500
print(f"Hello {client}, your balance is ₹{balance}")


#Hello Veera, your balance is ₹7500


# Always returns string
Client = input("Enter your name")
Balance = input("Enter transaction amount: ")

print("You entered:", Client, Balance)
print("Data type before casting:", type(balance))

# Convert to int
amount = int(balance)
print("After casting:", amount, type(amount))

print(f"Hello {Client}, your balance is ₹{balance}")


#🏦 Day 1 Coding Task – Finance Tracker
#Now, here’s your full program to try:
# Finance Tracker Program - Day 1

# Step 1: Basic Details
name = input("Enter your name: ")
pan = input("Enter your PAN number: ")
starting_balance = float(input("Enter starting balance: "))

# Step 2: Enter Transactions
transactions = []
for i in range(5):
    txn = float(input(f"Enter transaction {i+1} (positive=deposit, negative=withdrawal): "))
    transactions.append(txn)

# Step 3: Calculations
final_balance = starting_balance + sum(transactions)
highest_deposit = max([t for t in transactions if t > 0], default=0)
highest_withdrawal = min([t for t in transactions if t < 0], default=0)
average_txn = sum(transactions) / len(transactions)

# Step 4: Summary Report
print("\n===== Finance Summary =====")
print(f"Client Name       : {name}")
print(f"PAN Number        : {pan}")
print(f"Starting Balance  : {starting_balance}")
print(f"Final Balance     : {final_balance}")
print(f"Highest Deposit   : {highest_deposit}")
print(f"Highest Withdrawal: {highest_withdrawal}")
print(f"Average Txn       : {average_txn}")
print("============================")




# Finance Tracker Program - Day 1 - Interest 

# Step 1: Basic Details
Interest= 0.7
name = input("Enter your name: ")
pan = input("Enter your PAN number: ")
starting_balance = float(input("Enter starting balance: "))

# Step 2: Enter Transactions
transactions = []
for i in range(5):
    txn = float(input(f"Enter transaction {i+1} (positive=deposit, negative=withdrawal): "))
    transactions.append(txn)

# Step 3: Calculations
final_balance = starting_balance + sum(transactions)
highest_deposit = max([t for t in transactions if t > 0], default=0)
highest_withdrawal = min([t for t in transactions if t < 0], default=0)
average_txn = sum(transactions) / len(transactions)
Total_amount_after_interest = final_balance * 0.6
Total_amount_after_interest1 = final_balance * Interest
# Step 4: Summary Report
print("\n===== Finance Summary =====")
print(f"Client Name       : {name}")
print(f"PAN Number        : {pan}")
print(f"Starting Balance  : {starting_balance}")
print(f"Final Balance     : {final_balance}")
print(f"Highest Deposit   : {highest_deposit}")
print(f"Highest Withdrawal: {highest_withdrawal}")
print(f"Total_amount_after_interest : {Total_amount_after_interest}")
print(f"Total_amount_after_interest1 : {Total_amount_after_interest1}")
print(f"Average transaction      : {average_txn}")
print("============================")

